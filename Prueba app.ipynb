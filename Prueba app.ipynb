{
 "cells": [
  {
   "cell_type": "code",
   "execution_count": null,
   "id": "7cb621e2-f779-4d00-bbcf-3ce090391a94",
   "metadata": {},
   "outputs": [],
   "source": [
    "import streamlit as st\n",
    "import pandas as pd\n",
    "from io import BytesIO\n",
    "from streamlit_jupyter import StreamlitPatcher\n",
    "\n",
    "def app():\n",
    "    st.title(\"Cargar Excel y Sumar Columnas\")\n",
    "\n",
    "    # Cargar archivo Excel\n",
    "    uploaded_file = st.file_uploader(\"Cargar archivo Excel\", type=[\"xlsx\"])\n",
    "    if uploaded_file is not None:\n",
    "        df = pd.read_excel(uploaded_file)\n",
    "        st.write(\"Datos cargados del Excel:\", df)\n",
    "\n",
    "        # Verificar que el DataFrame tenga al menos dos columnas\n",
    "        if len(df.columns) >= 2:\n",
    "            # Crear una nueva columna que sume las dos primeras columnas\n",
    "            df['Suma'] = df.iloc[:, 0] + df.iloc[:, 1]\n",
    "            st.write(\"DataFrame con la nueva columna 'Suma':\", df)\n",
    "\n",
    "            # Exportar resultados a Excel\n",
    "            output = BytesIO()\n",
    "            with pd.ExcelWriter(output, engine='openpyxl') as writer:\n",
    "                df.to_excel(writer, index=False)\n",
    "            output.seek(0)\n",
    "\n",
    "            st.download_button(\n",
    "                label=\"Descargar resultados\",\n",
    "                data=output,\n",
    "                file_name=\"resultados.xlsx\",\n",
    "                mime=\"application/vnd.openxmlformats-officedocument.spreadsheetml.sheet\"\n",
    "            )\n",
    "        else:\n",
    "            st.error(\"El archivo Excel debe tener al menos dos columnas.\")\n",
    "\n",
    "# Integrar Streamlit con Jupyter Notebook\n",
    "StreamlitPatcher().jupyter()\n",
    "app()"
   ]
  }
 ],
 "metadata": {
  "kernelspec": {
   "display_name": "Python 3 (ipykernel)",
   "language": "python",
   "name": "python3"
  },
  "language_info": {
   "codemirror_mode": {
    "name": "ipython",
    "version": 3
   },
   "file_extension": ".py",
   "mimetype": "text/x-python",
   "name": "python",
   "nbconvert_exporter": "python",
   "pygments_lexer": "ipython3",
   "version": "3.11.7"
  }
 },
 "nbformat": 4,
 "nbformat_minor": 5
}
